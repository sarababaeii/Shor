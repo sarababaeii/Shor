{
 "cells": [
  {
   "cell_type": "markdown",
   "metadata": {},
   "source": [
    "# Shor's Algorithm"
   ]
  },
  {
   "cell_type": "code",
   "execution_count": 4,
   "metadata": {},
   "outputs": [],
   "source": [
    "from qiskit import QuantumCircuit, QuantumRegister"
   ]
  },
  {
   "cell_type": "markdown",
   "metadata": {},
   "source": [
    "## Auxilary methods"
   ]
  },
  {
   "cell_type": "markdown",
   "metadata": {},
   "source": [
    "### Reverse binary string"
   ]
  },
  {
   "cell_type": "code",
   "execution_count": 5,
   "metadata": {},
   "outputs": [],
   "source": [
    "# Returns a string 's' of 'n' bit binary representation of an integer 'a' s.t. s[i] = a_i\n",
    "# i.e. a mod 2^n if a > 2^n\n",
    "# and 0..0a if a < 2^n\n",
    "def n_bit_binary(n: int, a: int):\n",
    "    tmp = bin(a)\n",
    "    l = len(tmp)\n",
    "    ans = \"\"\n",
    "\n",
    "    d = min(l - 2, n)\n",
    "    for i in range(d):\n",
    "        ans += tmp[l - i - 1]\n",
    "\n",
    "    d = n - (l - 2)\n",
    "    for i in range(d):\n",
    "        ans += '0'\n",
    "\n",
    "    return ans"
   ]
  },
  {
   "cell_type": "markdown",
   "metadata": {},
   "source": [
    "### Logarithm base 2"
   ]
  },
  {
   "cell_type": "code",
   "execution_count": 6,
   "metadata": {},
   "outputs": [],
   "source": [
    "# Precondition: x > 0\n",
    "def log_2(x: int):\n",
    "    c = 1\n",
    "    i = 0\n",
    "    while c < x:\n",
    "        c *= 2\n",
    "        i += 1\n",
    "    return i"
   ]
  },
  {
   "cell_type": "markdown",
   "metadata": {},
   "source": [
    "### Multiplicative Inverse"
   ]
  },
  {
   "cell_type": "code",
   "execution_count": 7,
   "metadata": {},
   "outputs": [],
   "source": [
    "# Returns a' s.t. a(a') = 1 mod N\n",
    "# Precondition: GCD(a, N) = 1  \n",
    "def multiplicative_inverse(a: int, N: int):\n",
    "    for i in range(1, N):\n",
    "        if (a * i) % N == 1:\n",
    "            return i\n",
    "    print(\"ERROR: Multipliciative invere of \", a, \" related to \", N, \" does not exist.\")\n",
    "    return -1"
   ]
  },
  {
   "cell_type": "markdown",
   "metadata": {},
   "source": [
    "### Circuit Initialization"
   ]
  },
  {
   "cell_type": "code",
   "execution_count": 9,
   "metadata": {},
   "outputs": [],
   "source": [
    "# Takes a circuit 'qc', and post-composes it with initialization of 'map' qubits with 'n' bit int 'num'\n",
    "# Precondition: len(map) == n\n",
    "def init_qreg_val(n: int, num: int, qc: QuantumCircuit, map):\n",
    "    qc_init = QuantumCircuit(n)\n",
    "\n",
    "    bin_num = n_bit_binary(n, num)\n",
    "\n",
    "    for i in range(n):\n",
    "        if bin_num[i] == '1':\n",
    "            qc_init.x(i)\n",
    "    \n",
    "    return qc.compose(qc_init, qubits=map)\n",
    "\n",
    "\n",
    "def _test_init_qreg_val():\n",
    "    n = 6\n",
    "    A = QuantumRegister(n, name='A')\n",
    "    B = QuantumRegister(n, name='B')\n",
    "    qc = QuantumCircuit(A, B)\n",
    "\n",
    "    qc = init_qreg_val(n, 6, qc, map=[2 * i for i in range(n)]) # 6 = 110\n",
    "    qc.draw(output='mpl')"
   ]
  },
  {
   "cell_type": "markdown",
   "metadata": {},
   "source": [
    "#### Uniform Superposition"
   ]
  },
  {
   "cell_type": "code",
   "execution_count": 10,
   "metadata": {},
   "outputs": [],
   "source": [
    "def uniform_superposiotion_creator(n: int):\n",
    "    qc = QuantumCircuit(n)\n",
    "\n",
    "    for i in range(n):\n",
    "        qc.h(i)\n",
    "\n",
    "    return qc\n",
    "\n",
    "\n",
    "def _test_uniform_superposiotion_creator():\n",
    "    qc = uniform_superposiotion_creator(n=5)\n",
    "    print(qc)"
   ]
  },
  {
   "cell_type": "markdown",
   "metadata": {},
   "source": [
    "### Testing"
   ]
  },
  {
   "cell_type": "markdown",
   "metadata": {},
   "source": [
    "#### Measurement"
   ]
  },
  {
   "cell_type": "code",
   "execution_count": 11,
   "metadata": {},
   "outputs": [],
   "source": [
    "from qiskit.quantum_info import Pauli\n",
    "\n",
    "# Returns Pauli operator for measuring q_th qubit from n qubits (counting from 0) in Z basis\n",
    "# Precondition: q < n\n",
    "def measure_z(n: int, q: int):\n",
    "    p = ''\n",
    "    for i in range(n):\n",
    "        if i == q:\n",
    "            p += 'Z'\n",
    "        else:\n",
    "            p += 'I'\n",
    "    return p\n",
    "\n",
    "\n",
    "# Returns Observables based on Pauli operators for measuring all 'n' qubits in Z basis\n",
    "def observables(n: int):\n",
    "    obs = []\n",
    "    for i in range(n-1, -1, -1):\n",
    "        obs.append(measure_z(n, i))\n",
    "    return obs"
   ]
  },
  {
   "cell_type": "code",
   "execution_count": 13,
   "metadata": {},
   "outputs": [],
   "source": [
    "from qiskit_aer.primitives import Estimator\n",
    "\n",
    "def test_all(qc: QuantumCircuit, is_exact: bool):\n",
    "    n = len(qc.qubits)\n",
    "    obs = observables(n)\n",
    "    return estimate(qc, obs, is_exact)\n",
    "\n",
    "\n",
    "def estimate(qc: QuantumCircuit, observables, is_exact: bool):\n",
    "    estimator = Estimator()\n",
    "\n",
    "    job = estimator.run([qc] * len(observables), observables)\n",
    "\n",
    "    if is_exact:\n",
    "        return map_Z_meas_to_bit(job.result().values)\n",
    "    else:\n",
    "        return job.result()\n",
    "\n",
    "\n",
    "def map_Z_meas_to_bit(est_res):\n",
    "    bin_res = []\n",
    "    for i in range(len(est_res)):\n",
    "        if est_res[i] == 1:\n",
    "            bin_res.append(0)\n",
    "        if est_res[i] == -1:\n",
    "            bin_res.append(1)\n",
    "    return bin_res"
   ]
  },
  {
   "cell_type": "markdown",
   "metadata": {},
   "source": [
    "#### Visualization"
   ]
  },
  {
   "cell_type": "code",
   "execution_count": 12,
   "metadata": {},
   "outputs": [],
   "source": [
    "import matplotlib.pyplot as plt\n",
    "\n",
    "def draw_graph(labels, values):\n",
    "    plt.plot(labels, values, '-o')\n",
    "    plt.xlabel('Observables')\n",
    "    plt.ylabel('Expectation Value')\n",
    "    plt.show()"
   ]
  },
  {
   "cell_type": "markdown",
   "metadata": {},
   "source": [
    "### Circuit Names"
   ]
  },
  {
   "cell_type": "code",
   "execution_count": 104,
   "metadata": {},
   "outputs": [],
   "source": [
    "def name_adder(n: int):\n",
    "    return str(n) + '_Add'\n",
    "\n",
    "def name_mod_adder(n: int):\n",
    "    return 'Add mod 2^' + str(n)\n",
    "\n",
    "def name_add_with_0(n: int):\n",
    "    return str(n) + '_Copy'\n",
    "\n",
    "def name_shift(n: int, k: int):\n",
    "    return str(n) + '_Shift to ' + str(k)\n",
    "\n",
    "def name_out_of_place_mod_mul(n: int, a: int):\n",
    "    return 'x' + str(a) + ' mod 2^' + str(n) + ' (OP)'\n",
    "\n",
    "def name_in_place_mod_mul(n: int, a: int):\n",
    "    return 'x' + str(a) + ' mod 2^' + str(n) + ' (IP)'\n",
    "\n",
    "def name_mod_exp(n: int, a: int):\n",
    "    return str(a) + '^x mod 2^' + str(n)\n",
    "\n",
    "def name_period_finder(n: int, a: int):\n",
    "    return 'Period Finder of ' + str(a) + '^x mod 2^' + str(n)\n",
    "\n",
    "def name_qasm_file(N: int, a: int, eps: int, op):\n",
    "    return 'Shor_N' + str(N) + '_a' + str(a) + '_eps' + str(eps) + '_op' + str(op) + '.qasm'"
   ]
  },
  {
   "cell_type": "markdown",
   "metadata": {},
   "source": [
    "## Compilation"
   ]
  },
  {
   "cell_type": "markdown",
   "metadata": {},
   "source": [
    "### Gate Sets"
   ]
  },
  {
   "cell_type": "code",
   "execution_count": 35,
   "metadata": {},
   "outputs": [],
   "source": [
    "from enum import Enum\n",
    "\n",
    "class GateSet(Enum):\n",
    "    Pauli = ['x', 'y', 'z']\n",
    "    Clifford = Pauli + ['h', 's', 'sdg', 'cx']\n",
    "    Clifford_T = Clifford + ['t', 'tdg']\n",
    "    Clifford_T_1q_rotations = Clifford_T + ['u']"
   ]
  },
  {
   "cell_type": "markdown",
   "metadata": {},
   "source": [
    "### Compile to a Gate Set"
   ]
  },
  {
   "cell_type": "code",
   "execution_count": 36,
   "metadata": {},
   "outputs": [],
   "source": [
    "from qiskit import transpile\n",
    "\n",
    "def compile(qc: QuantumCircuit, gate_set: GateSet, optimization_level):\n",
    "    compiled_qc = transpile(qc, basis_gates=gate_set.value, optimization_level=optimization_level)\n",
    "    return compiled_qc"
   ]
  },
  {
   "cell_type": "markdown",
   "metadata": {},
   "source": [
    "### Compile to OpenQASM"
   ]
  },
  {
   "cell_type": "code",
   "execution_count": 37,
   "metadata": {},
   "outputs": [],
   "source": [
    "from qiskit import qasm2\n",
    "\n",
    "def to_qasm(qc: QuantumCircuit, file_name):\n",
    "    qasm2.dump(qc, file_name)\n",
    "\n",
    "\n",
    "def show_qasm(qc: QuantumCircuit):\n",
    "    openqasm_code = qasm2.dumps(qc)\n",
    "    print(openqasm_code)\n",
    "    return openqasm_code"
   ]
  },
  {
   "cell_type": "markdown",
   "metadata": {},
   "source": [
    "## Binary Integer Addition"
   ]
  },
  {
   "cell_type": "markdown",
   "metadata": {},
   "source": [
    "### Cuccaro Adder"
   ]
  },
  {
   "cell_type": "code",
   "execution_count": 15,
   "metadata": {},
   "outputs": [],
   "source": [
    "# Returns circuit of cuccaro adder for 'n' bit inputs, using (2n + 2) qubits\n",
    "# 1 ancilla for carry-in (initially 0)\n",
    "# n qubits for first input\n",
    "# n qubits for second input which will be rewritten by sum\n",
    "# 1 qubit for most-significant bit of sum\n",
    "# |0> |a> |b> |z> --> |0> |a> |a + b> |(a + b)_n>\n",
    "def cuccaro_adder(n: int):\n",
    "    A = QuantumRegister(n, name='A')\n",
    "    B = QuantumRegister(n, name='B')\n",
    "    Z = QuantumRegister(1, name='Z')\n",
    "    X = QuantumRegister(1, name='X')\n",
    "\n",
    "    qc = QuantumCircuit(X, A, B, Z, name=name_adder(n))\n",
    "    \n",
    "    # small n\n",
    "    if n < 4:\n",
    "        return small_adder(n, qc, A, B, X, Z)\n",
    "\n",
    "    for i in range(1, n):\n",
    "        qc.cx(A[i], B[i])\n",
    "\n",
    "    qc.cx(A[1], X)\n",
    "\n",
    "    qc.ccx(A[0], B[0], X) #TODO: Toffoli to Clifford + T\n",
    "    qc.cx(A[2], A[1])\n",
    "\n",
    "    qc.ccx(X, B[1], A[1]) #TODO: Toffoli to Clifford + T\n",
    "    qc.cx(A[3], A[2])\n",
    "\n",
    "    for i in range(2, n-2):\n",
    "        qc.ccx(A[i - 1], B[i], A[i]) #TODO: Toffoli to Clifford + T\n",
    "        qc.cx(A[i + 2], A[i + 1])\n",
    "\n",
    "    qc.ccx(A[n - 3], B[n - 2], A[n - 2]) #TODO: Toffoli to Clifford + T\n",
    "    qc.cx(A[n - 1], Z)\n",
    "\n",
    "    qc.ccx(A[n - 2], B[n - 1], Z) #TODO: Toffoli to Clifford + T\n",
    "    for i in range(1, n - 1):\n",
    "        qc.x(B[i])\n",
    "\n",
    "    qc.cx(X, B[1])\n",
    "    for i in range(2, n):\n",
    "        qc.cx(A[i - 1], B[i])\n",
    "    \n",
    "    qc.ccx(A[n - 3], B[n - 2], A[n - 2]) #TODO: Toffoli to Clifford + T\n",
    "\n",
    "    for i in range(n - 3, 1, -1):\n",
    "        qc.ccx(A[i - 1], B[i], A[i]) #TODO: Toffoli to Clifford + T\n",
    "        qc.cx(A[i + 2], A[i + 1])\n",
    "        qc.x(B[i + 1])\n",
    "\n",
    "    qc.ccx(X, B[1], A[1]) #TODO: Toffoli to Clifford + T\n",
    "    qc.cx(A[3], A[2])\n",
    "    qc.x(B[2])\n",
    "\n",
    "    qc.ccx(A[0], B[0], X) #TODO: Toffoli to Clifford + T\n",
    "    qc.cx(A[2], A[1])\n",
    "    qc.x(B[1])\n",
    "\n",
    "    qc.cx(A[1], X)\n",
    "\n",
    "    for i in range(n):\n",
    "        qc.cx(A[i], B[i])\n",
    "    \n",
    "    return qc\n",
    "\n",
    "\n",
    "# Precondition: 0 < n < 4\n",
    "def small_adder(n: int, qc: QuantumCircuit, A: QuantumRegister, B: QuantumRegister, X: QuantumRegister, Z: QuantumRegister):\n",
    "    if n == 3:\n",
    "        return three_bit_adder(qc, A, B, X, Z)\n",
    "    if n == 2:\n",
    "        return two_bit_adder(qc, A, B, X, Z)\n",
    "    if n == 1:\n",
    "        return one_bit_adder(qc, A, B, Z)\n",
    "    return qc\n",
    "\n",
    "\n",
    "def one_bit_adder(qc, A, B, Z):\n",
    "    qc.ccx(A[0], B[0], Z)\n",
    "    qc.cx(A[0], B[0])\n",
    "    return qc\n",
    "\n",
    "\n",
    "def two_bit_adder(qc, A, B, X, Z):\n",
    "    qc.ccx(A[0], B[0], X)\n",
    "    qc.ccx(A[1], B[1], Z)\n",
    "    qc.cx(A[1], B[1])\n",
    "    qc.ccx(X, B[1], Z)\n",
    "    qc.cx(X, B[1])\n",
    "    qc.ccx(A[0], B[0], X)\n",
    "    qc.cx(A[0], B[0])\n",
    "    return qc\n",
    "\n",
    "\n",
    "def three_bit_adder(qc, A, B, X, Z):\n",
    "    qc.ccx(A[0], B[0], X)\n",
    "\n",
    "    for i in range(1, 3):\n",
    "        qc.cx(A[i], B[i])\n",
    "    \n",
    "    qc.cx(A[1], X)\n",
    "    qc.ccx(X, B[1], A[1])\n",
    "\n",
    "    qc.cx(A[2], A[1])\n",
    "    qc.ccx(A[1], B[2], A[2])\n",
    "\n",
    "    qc.cx(A[2], Z)\n",
    "\n",
    "    qc.ccx(A[1], B[2], A[2])\n",
    "    qc.cx(A[2], A[1])\n",
    "    qc.cx(A[1], B[2])\n",
    "\n",
    "    qc.ccx(X, B[1], A[1])\n",
    "    qc.cx(A[1], X)\n",
    "    qc.cx(X, B[1])\n",
    "\n",
    "    qc.ccx(A[0], B[0], X)\n",
    "    qc.cx(A[0], B[0])\n",
    "\n",
    "    return qc\n",
    "\n",
    "\n",
    "def _test_cuccaro_adder():\n",
    "    qc = cuccaro_adder(3)\n",
    "    print(qc)\n",
    "    # qc.draw(output='mpl')"
   ]
  },
  {
   "cell_type": "markdown",
   "metadata": {},
   "source": [
    "### Modular Adder"
   ]
  },
  {
   "cell_type": "code",
   "execution_count": 16,
   "metadata": {},
   "outputs": [],
   "source": [
    "# Returns circuit of cuccaro adder for 'n' bit inputs mod 2^n, using (2n + 1) qubits\n",
    "# 1 ancilla for carry-in (initially 0)\n",
    "# n qubits for first input\n",
    "# n qubits for second input which will be rewritten by sum\n",
    "# |0> |a> |b> --> |0> |a> |(a + b) mod 2^n>\n",
    "def modular_adder(n: int):\n",
    "    X = QuantumRegister(1, name='X')\n",
    "    A = QuantumRegister(n, name='A')\n",
    "    B = QuantumRegister(n, name='B')\n",
    "\n",
    "    qc = QuantumCircuit(X, A, B, name=name_mod_adder(n))\n",
    "\n",
    "    # very small n\n",
    "    if n == 1:\n",
    "        qc.cx(A[0], B[0])\n",
    "        return qc\n",
    "\n",
    "    qc_1 = cuccaro_adder(n - 1).to_gate()\n",
    "\n",
    "    qc = qc.compose(qc_1, qubits=qubit_map_cuccaro_to_modular(n))\n",
    "\n",
    "    qc.cx(A[n - 1], B[n - 1])\n",
    "\n",
    "    return qc\n",
    "\n",
    "\n",
    "def qubit_map_cuccaro_to_modular(n):\n",
    "    map = [0]\n",
    "\n",
    "    for i in range(1, n):\n",
    "        map.append(i)\n",
    "\n",
    "    for i in range(n + 1, 2 * n + 1):\n",
    "        map.append(i)\n",
    "\n",
    "    return map\n",
    "\n",
    "\n",
    "def _test_modular_adder():\n",
    "    qc = modular_adder(3)\n",
    "    print(qc)\n",
    "    # qc.draw(output='mpl')"
   ]
  },
  {
   "cell_type": "markdown",
   "metadata": {},
   "source": [
    "### Add with 0 (Copy)"
   ]
  },
  {
   "cell_type": "code",
   "execution_count": 17,
   "metadata": {},
   "outputs": [],
   "source": [
    "# Returns circuit of adder for 'n' bit inputs where the second input is 0 using (2n) qubits\n",
    "# i.e. copis 'n' bits to another 'n' 0 bits\n",
    "# n qubits for first input\n",
    "# n qubits for second input which will be rewritten by sum\n",
    "# |a> |0> --> |a> |a>\n",
    "def adder_with_0(n: int):\n",
    "    A = QuantumRegister(n, name='A')\n",
    "    X = QuantumRegister(n, name='X')\n",
    "\n",
    "    qc = QuantumCircuit(A, X, name=name_add_with_0(n))\n",
    "\n",
    "    for i in range(n):\n",
    "        qc.cx(A[i], X[i])\n",
    "\n",
    "    return qc\n",
    "\n",
    "\n",
    "def _tet_adder_with_0():\n",
    "    qc = adder_with_0(7)\n",
    "    print(qc)\n",
    "    # qc.draw(output='mpl')"
   ]
  },
  {
   "cell_type": "markdown",
   "metadata": {},
   "source": [
    "### Adder Test"
   ]
  },
  {
   "cell_type": "markdown",
   "metadata": {},
   "source": [
    "#### Adder Initialization"
   ]
  },
  {
   "cell_type": "code",
   "execution_count": null,
   "metadata": {},
   "outputs": [],
   "source": [
    "def _add(n, a, b):\n",
    "    qc_add = cuccaro_adder(n)\n",
    "\n",
    "    qc = QuantumCircuit(*qc_add.qregs)\n",
    "\n",
    "    qc = init_qreg_val(n, a, qc, [i for i in range(1, n + 1)])\n",
    "    qc = init_qreg_val(n, b, qc, [i for i in range(n + 1, 2 * n + 1)])\n",
    "\n",
    "    qc = qc.compose(qc_add)\n",
    "\n",
    "    return qc\n",
    "\n",
    "\n",
    "def _mod_add(n, a, b):\n",
    "    qc_add = modular_adder(n)\n",
    "\n",
    "    qc = QuantumCircuit(*qc_add.qregs)\n",
    "\n",
    "    qc = init_qreg_val(n, a, qc, [i for i in range(1, n + 1)])\n",
    "    qc = init_qreg_val(n, b, qc, [i for i in range(n + 1, 2 * n + 1)])\n",
    "\n",
    "    qc = qc.compose(qc_add)\n",
    "\n",
    "    return qc"
   ]
  },
  {
   "cell_type": "markdown",
   "metadata": {},
   "source": [
    "#### Measurement"
   ]
  },
  {
   "cell_type": "code",
   "execution_count": 19,
   "metadata": {},
   "outputs": [],
   "source": [
    "def test_mod_add(n, a, b):\n",
    "    qc = _mod_add(n, a, b)\n",
    "\n",
    "    res = test_all(qc, is_exact=True)\n",
    "    labels = labels_mod_add(n)\n",
    "\n",
    "    draw_graph(labels, res)\n",
    "    return qc\n",
    "\n",
    "\n",
    "def test_mod_add_dag(n, a, b):\n",
    "    qc = _mod_add(n, a, b)\n",
    "\n",
    "    qc_1 = modular_adder(n)\n",
    "    qc_1 = qc_1.inverse()\n",
    "\n",
    "    qc = qc.compose(qc_1)\n",
    "\n",
    "    res = test_all(qc, is_exact=True)\n",
    "    labels = labels_mod_add(n)\n",
    "\n",
    "    draw_graph(labels, res)\n",
    "    return qc\n",
    "\n",
    "\n",
    "def labels_mod_add(n):\n",
    "    labels = ['X']\n",
    "    for i in range(n):\n",
    "        labels.append('A' + str(i))\n",
    "    for i in range(n):\n",
    "        labels.append('B' + str(i))\n",
    "    return labels\n",
    "\n",
    "\n",
    "def _test_mod_add():\n",
    "    # qc = test_mod_adder(n, a, b)\n",
    "    qc = test_mod_add_dag(n=3, a=1, b=2)\n",
    "    print(qc)\n",
    "    # qc.draw('mpl')"
   ]
  },
  {
   "cell_type": "markdown",
   "metadata": {},
   "source": [
    "## Modular Multiplication"
   ]
  },
  {
   "cell_type": "markdown",
   "metadata": {},
   "source": [
    "### Bit Shift"
   ]
  },
  {
   "cell_type": "code",
   "execution_count": 20,
   "metadata": {},
   "outputs": [],
   "source": [
    "# Returns circuit for shifting an 'n'-bit string, 'k' bits to the left, i.e. *= 2^k,\n",
    "# using 'k' 0 ancillas which will be dirty by storing the 'k' most-significant bits at the end,\n",
    "# and (2n) CNOTs\n",
    "# Precondition: k < n\n",
    "# |a> |0>^k --> |0>^k |a>\n",
    "def left_shifter(n: int, k: int):\n",
    "    X = QuantumRegister(n, name='X')\n",
    "    A = QuantumRegister(k, name='A')\n",
    "    \n",
    "    qc = QuantumCircuit(X, A, name=name_shift(n, k))\n",
    "\n",
    "    for i in range(n - 1, -1, -1):\n",
    "        qc.cx(i, i + k)\n",
    "        qc.cx(i + k, i)\n",
    "    \n",
    "    return qc\n",
    "\n",
    "\n",
    "def _test_left_shifter():\n",
    "    qc = left_shifter(n=7, k=3)\n",
    "    print(qc)\n",
    "    # qc.draw(output='mpl')"
   ]
  },
  {
   "cell_type": "markdown",
   "metadata": {},
   "source": [
    "### Out of Place Modular Multiplier"
   ]
  },
  {
   "cell_type": "code",
   "execution_count": 22,
   "metadata": {},
   "outputs": [],
   "source": [
    "# Returns circuit for out-of-place modular 2^n multiplication of an 'n' bit input with 'a' , using (3n) qubits\n",
    "# n qubits for input\n",
    "# n qubits initially 0 to be rewritten by mul result\n",
    "# n - 1 ancillas initially 0 to become dirty with shifts \n",
    "# 1 ancilla initially 0 for carry-in to be used by adders\n",
    "# |b> |0>^n |0>^n |--> |b> |b.a mod 2^n> |garabage>^(n - 1) |0>\n",
    "def out_of_place_modular_multiplier(n: int, a: int):\n",
    "    B = QuantumRegister(n, name='B')\n",
    "    M = QuantumRegister(n, name='M')\n",
    "    A = QuantumRegister(n - 1, name='G')\n",
    "    X = QuantumRegister(1, name='X')\n",
    "\n",
    "    qc = QuantumCircuit(B, M, A, X, name=name_out_of_place_mod_mul(n, a))\n",
    "\n",
    "    bin_a = n_bit_binary(n, a)\n",
    "    last_shift = -1\n",
    "\n",
    "    for i in range(n - 1, -1, -1):\n",
    "        if bin_a[i] == '1':\n",
    "\n",
    "            if last_shift == -1: # first on bit of 'a'\n",
    "                qc = add_with_0_for_mod_mul(n, n, qc)\n",
    "            \n",
    "            else:\n",
    "                k = last_shift - i\n",
    "\n",
    "                # M << k\n",
    "                qc = shift_left_for_mod_mul(n, k, last_shift, qc)\n",
    "\n",
    "                # M += B\n",
    "                qc = add_with_0_for_mod_mul(n, k, qc)\n",
    "                qc = mod_add_for_mod_mul(n, k, qc)\n",
    "\n",
    "            last_shift = i\n",
    "            \n",
    "        elif i == 0: # shift to adjust if last bit of 'a' was off, useless since GCD(a, 2^n) = 1\n",
    "            k = last_shift - i\n",
    "            qc = shift_left_for_mod_mul(n, k, last_shift, qc)\n",
    "        \n",
    "    return qc\n",
    "\n",
    "\n",
    "def shift_left_for_mod_mul(n: int, k: int, last_shift: int, qc: QuantumCircuit):\n",
    "    qc_shift = left_shifter(n, k).to_gate()\n",
    "\n",
    "    map = [i for i in range(n, 2 * n)]\n",
    "    map += [shift_garbage(i, n, last_shift) for i in range(k)]\n",
    "    \n",
    "    return qc.compose(qc_shift, qubits=map)\n",
    "\n",
    "\n",
    "def shift_garbage(i: int, n: int, last_shift: int):\n",
    "    return n - 1 - last_shift + i + 2 * n\n",
    "\n",
    "\n",
    "def add_with_0_for_mod_mul(n: int, k: int, qc: QuantumCircuit):\n",
    "    qc_add_0 = adder_with_0(k).to_gate()\n",
    "\n",
    "    map = [i for i in range(k)]\n",
    "    map += [i + n for i in range(k)]\n",
    "\n",
    "    return qc.compose(qc_add_0, qubits=map)\n",
    "\n",
    "\n",
    "def mod_add_for_mod_mul(n: int, k: int, qc: QuantumCircuit):\n",
    "    qc_add_1 = modular_adder(n - k).to_gate()\n",
    "\n",
    "    map = [3 * n - 1]\n",
    "    map += [i for i in range(k, n)]\n",
    "    map += [i + n for i in range(k, n)]\n",
    "    \n",
    "    return qc.compose(qc_add_1, qubits=map)"
   ]
  },
  {
   "cell_type": "markdown",
   "metadata": {},
   "source": [
    "#### Out of Place Modular Multiplier Test"
   ]
  },
  {
   "cell_type": "code",
   "execution_count": 23,
   "metadata": {},
   "outputs": [],
   "source": [
    "def _op_mod_mul(a, b, n):\n",
    "    qc_mul = out_of_place_modular_multiplier(n, a)\n",
    "\n",
    "    qc = QuantumCircuit(*qc_mul.qregs)\n",
    "    qc = init_qreg_val(n, b, qc, map=[i for i in range(n)])\n",
    "    qc = qc.compose(qc_mul)\n",
    "\n",
    "    return qc\n",
    "\n",
    "\n",
    "def test_op_mod_mul(a, b, n):\n",
    "    qc = _op_mod_mul(a, b, n)\n",
    "\n",
    "    res = test_all(qc, is_exact=True)\n",
    "    labels = labels_op_mod_mul(n)\n",
    "\n",
    "    draw_graph(labels, res)\n",
    "    return qc\n",
    "\n",
    "\n",
    "def labels_op_mod_mul(n):\n",
    "    labels = []\n",
    "    for i in range(n):\n",
    "        labels.append('B' + str(i))\n",
    "    for i in range(n):\n",
    "        labels.append('M' + str(i))\n",
    "    for i in range(n - 1):\n",
    "        labels.append('A' + str(i))\n",
    "    labels.append('X')\n",
    "    return labels\n",
    "\n",
    "\n",
    "def _test_out_of_place_modular_multiplier():\n",
    "    # a = 5 #0101\n",
    "    # b = 5 #0101\n",
    "    # a * b mod 2^n = 9 = 1001\n",
    "    # A = 010\n",
    "    qc = test_op_mod_mul(a=5, b=5, n=4)\n",
    "    # qc.draw(output='mpl')"
   ]
  },
  {
   "cell_type": "markdown",
   "metadata": {},
   "source": [
    "### In-place Modular Multiplier"
   ]
  },
  {
   "cell_type": "code",
   "execution_count": 24,
   "metadata": {},
   "outputs": [],
   "source": [
    "# Returns circuit for in-place modular 2^n multiplication of an 'n' bit input with 'a' , using (4n) qubits\n",
    "# n qubits for input\n",
    "#     2n qubits initially 0 to be rewritten by mul result\n",
    "#     n - 1 ancillas initially 0 to become dirty with shifts \n",
    "#     1 ancilla initially 0 for carry-in to be used by adders\n",
    "# |b> |0>^n |0>^n |0>^n |--> |0>^n |0>^n |0>^n |b.a mod 2^n>\n",
    "def in_place_modular_multiplier(n: int, a: int):\n",
    "    \n",
    "    a_inverse = multiplicative_inverse(a, 2**n)\n",
    "    if a_inverse == -1:\n",
    "        return\n",
    "    \n",
    "    B = QuantumRegister(n, name='B')\n",
    "    M = QuantumRegister(n, name='M')\n",
    "    A = QuantumRegister(n - 1, name='A')\n",
    "    X = QuantumRegister(1, name='X')\n",
    "    C = QuantumRegister(n, name='C')\n",
    "\n",
    "    qc = QuantumCircuit(B, M, A, X, C, name=name_in_place_mod_mul(n, a))\n",
    "\n",
    "    B_map = [i for i in range(n)]\n",
    "    M_map = [i + n for i in range(n)]\n",
    "    A_map = [i + 2 * n for i in range(n)]\n",
    "    C_map = [i + 3 * n for i in range(n)]\n",
    "\n",
    "    qc_U_a = out_of_place_modular_multiplier(n, a).to_gate()\n",
    "    qc_copy = adder_with_0(n).to_gate()\n",
    "    qc_U_a_dag = qc_U_a.inverse()\n",
    "    qc_U_a_inv = out_of_place_modular_multiplier(n, a_inverse).to_gate()\n",
    "    qc_U_a_inv_dag = qc_U_a_inv.inverse()\n",
    "    \n",
    "    qc = (qc.compose(qc_U_a, qubits=B_map + M_map + A_map)       #[B, M, A, C] = [b, ab mod N, g(a, b), 0]\n",
    "          .compose(qc_copy, qubits=M_map + C_map)                #[B, M, A, C] = [b, ab mod N, g(a, b), ab mod N]\n",
    "          .compose(qc_U_a_dag, qubits=B_map + M_map + A_map)     #[B, M, A, C] = [b, 0, 0, ab mod N]\n",
    "          .compose(qc_U_a_inv, qubits=C_map + M_map + A_map)     #[B, M, A, C] = [b, b, g(a^-1, ab), ab mod N]\n",
    "          .compose(qc_copy, qubits=B_map + M_map)                #[B, M, A, C] = [b, 0, g(a^-1, ab), ab mod N]\n",
    "          .compose(qc_U_a_inv_dag, qubits=C_map + B_map + A_map) #[B, M, A, C] = [0, 0, 0, ab mod N]\n",
    "          .compose(qc_copy, qubits=C_map + B_map)                #[B, M, A, C] = [ab mod N, 0, 0, ab mod N]\n",
    "          .compose(qc_copy, qubits=B_map + C_map))               #[B, M, A, C] = [ab mod N, 0, 0, 0]\n",
    "    return qc"
   ]
  },
  {
   "cell_type": "markdown",
   "metadata": {},
   "source": [
    "#### In-Place Modular Multiplier Test"
   ]
  },
  {
   "cell_type": "code",
   "execution_count": 25,
   "metadata": {},
   "outputs": [],
   "source": [
    "def _ip_mod_mul(a, b, n):\n",
    "    qc_mul = in_place_modular_multiplier(n, a)\n",
    "\n",
    "    qc = QuantumCircuit(*qc_mul.qregs)\n",
    "    qc = init_qreg_val(n, b, qc, map=[i for i in range(n)])\n",
    "    qc = qc.compose(qc_mul)\n",
    "\n",
    "    return qc\n",
    "\n",
    "\n",
    "def test_ip_mod_mul(a, b, n):\n",
    "    qc = _ip_mod_mul(a, b, n)\n",
    "\n",
    "    res = test_all(qc, is_exact=True)\n",
    "    labels = labels_ip_mod_mul(n)\n",
    "\n",
    "    draw_graph(labels, res)\n",
    "    return qc\n",
    "\n",
    "\n",
    "def labels_ip_mod_mul(n):\n",
    "    labels = []\n",
    "    for i in range(n):\n",
    "        labels.append('B' + str(i))\n",
    "    for i in range(n):\n",
    "        labels.append('M' + str(i))\n",
    "    for i in range(n - 1):\n",
    "        labels.append('A' + str(i))\n",
    "    labels.append('X')\n",
    "    for i in range(n):\n",
    "        labels.append('C' + str(i))\n",
    "    return labels\n",
    "\n",
    "\n",
    "def _test_in_place_modular_multiplier():\n",
    "    #ab mod 16 = 9 = 1001\n",
    "    qc = test_ip_mod_mul(a=5, b=5, n=4)\n",
    "    # qc.draw(output='mpl')"
   ]
  },
  {
   "cell_type": "markdown",
   "metadata": {},
   "source": [
    "### Controlled Modular Multiplier"
   ]
  },
  {
   "cell_type": "code",
   "execution_count": 26,
   "metadata": {},
   "outputs": [],
   "source": [
    "def controlled_modular_multiplier(n: int, a:int):\n",
    "    U_a = in_place_modular_multiplier(n, a)\n",
    "    cU_a = U_a.to_gate().control(1)\n",
    "\n",
    "    qreg = QuantumRegister(len(U_a.qubits) + 1)\n",
    "    qc = QuantumCircuit(qreg, name=name_in_place_mod_mul(n, a))\n",
    "    qc.append(cU_a, qreg)\n",
    "\n",
    "    return qc"
   ]
  },
  {
   "cell_type": "markdown",
   "metadata": {},
   "source": [
    "## Modular Exponentiation"
   ]
  },
  {
   "cell_type": "code",
   "execution_count": 27,
   "metadata": {},
   "outputs": [],
   "source": [
    "# Returns circuit for exponentiation of an int 'a' to the 'n' bit input 'x' mod 2^n, using (5n) qubits\n",
    "# n qubits for exponent input\n",
    "# n qubits initially 0..01 to be rewritten by exp result\n",
    "# 3n ancillas initially 0\n",
    "# |x> |1> |0> --> |x> |a^x mod 2^n> |0>\n",
    "def modular_exponent(n: int, a: int):\n",
    "    X = QuantumRegister(n, name='X')\n",
    "    B = QuantumRegister(n, name='B')\n",
    "    A = QuantumRegister(2 * n, name='A')\n",
    "    M = QuantumRegister(n, name='M')\n",
    "\n",
    "    qc = QuantumCircuit(X, B, A, M, name=name_mod_exp(n, a))\n",
    "\n",
    "    B_map = [j + n for j in range(n)]\n",
    "    A_map = [j + 2 * n for j in range(2 * n)]\n",
    "    M_map = [j + 4 * n for j in range(n)]\n",
    "\n",
    "    for i in range(n):\n",
    "        a_2i = a ** (2 ** i)\n",
    "        qc_2i = controlled_modular_multiplier(n, a_2i)\n",
    "        \n",
    "        qc = qc.compose(qc_2i, qubits=[i] + B_map + A_map + M_map)\n",
    "    \n",
    "    return qc"
   ]
  },
  {
   "cell_type": "markdown",
   "metadata": {},
   "source": [
    "### Modular Exponentiation Test"
   ]
  },
  {
   "cell_type": "code",
   "execution_count": 32,
   "metadata": {},
   "outputs": [],
   "source": [
    "def _mod_exp(a, x, n):\n",
    "    qc_exp = modular_exponent(n, a)\n",
    "\n",
    "    qc = QuantumCircuit(*qc_exp.qregs)\n",
    "    qc = init_qreg_val(n, x, qc, map=[i for i in range(n)])\n",
    "    qc = init_qreg_val(n, 1, qc, map=[i + n for i in range(n)])\n",
    "    qc = qc.compose(qc_exp)\n",
    "\n",
    "    return qc\n",
    "\n",
    "\n",
    "def test_mod_exp(a, x, n):\n",
    "    qc = _mod_exp(a, x, n)\n",
    "\n",
    "    res = test_all(qc, is_exact=True)\n",
    "    labels = labels_for_test_mod_exp(n)\n",
    "\n",
    "    draw_graph(labels, res)\n",
    "    return qc\n",
    "\n",
    "\n",
    "def labels_for_test_mod_exp(n):\n",
    "    labels = []\n",
    "    for i in range(n):\n",
    "        labels.append('X' + str(i))\n",
    "    for i in range(n):\n",
    "        labels.append('B' + str(i))\n",
    "    for i in range(2 * n):\n",
    "        labels.append('A' + str(i))\n",
    "    for i in range(n):\n",
    "        labels.append('M' + str(i))\n",
    "    return labels\n",
    "\n",
    "\n",
    "def _test_modular_exponent():\n",
    "    #3^4 mod 16 = 81 = 1\n",
    "    qc = test_mod_exp(a=3, x=6, n=3)\n",
    "    # qc.draw(output='mpl')"
   ]
  },
  {
   "cell_type": "markdown",
   "metadata": {},
   "source": [
    "## Period Finding"
   ]
  },
  {
   "cell_type": "code",
   "execution_count": 88,
   "metadata": {},
   "outputs": [],
   "source": [
    "from qiskit.circuit.library import QFT\n",
    "from qiskit import ClassicalRegister\n",
    "\n",
    "def period_finder(n: int, a: int, eps: int, decompose=False, optimization_level=1):\n",
    "    X = QuantumRegister(n, name='X')\n",
    "    B = QuantumRegister(n, name='B')\n",
    "    A = QuantumRegister(3 * n, name='A')\n",
    "    \n",
    "    C = ClassicalRegister(n, name='C')\n",
    "\n",
    "    qc = QuantumCircuit(X, B, A, C, name=name_period_finder(n, a))\n",
    "\n",
    "    X_map = [i for i in range(n)]\n",
    "\n",
    "    qc_init = uniform_superposiotion_creator(n)\n",
    "    qc_exp = modular_exponent(n, a)\n",
    "    qc_qft = QFT(n, eps, do_swaps=False, inverse=True)\n",
    "\n",
    "    if decompose:\n",
    "        qc_exp = compile(qc_exp, GateSet.Clifford_T_1q_rotations, optimization_level)\n",
    "        qc_qft = compile(qc_qft, GateSet.Clifford_T_1q_rotations, optimization_level)\n",
    "\n",
    "    qc = (qc.compose(qc_init, X_map)\n",
    "          .compose(qc_exp)\n",
    "          .compose(qc_qft, qubits=X_map))\n",
    "    \n",
    "    qc.measure(X, C)\n",
    "\n",
    "    return qc\n"
   ]
  },
  {
   "cell_type": "markdown",
   "metadata": {},
   "source": [
    "### Period Finding Test"
   ]
  },
  {
   "cell_type": "code",
   "execution_count": 93,
   "metadata": {},
   "outputs": [],
   "source": [
    "def _find_period(a, n, eps, decompose, optimization_level=1):\n",
    "    qc_pf = period_finder(n, a, eps, decompose, optimization_level)\n",
    "\n",
    "    qc = QuantumCircuit(*qc_pf.qregs)\n",
    "    qc = init_qreg_val(n, 1, qc, map=[i + n for i in range(n)])\n",
    "    qc = qc.compose(qc_pf)\n",
    "\n",
    "    return qc\n",
    "\n",
    "\n",
    "def test_pf(a, n):\n",
    "    qc = _find_period(a, n, eps=0, decompose=False)\n",
    "\n",
    "    res = test_all(qc, is_exact=False)\n",
    "    labels = labels_for_test_mod_exp(n)\n",
    "\n",
    "    draw_graph(labels, res)\n",
    "    return qc\n",
    "\n",
    "\n",
    "def labels_for_test_pf(n):\n",
    "    labels = []\n",
    "    for i in range(n):\n",
    "        labels.append('X' + str(i))\n",
    "    for i in range(n):\n",
    "        labels.append('B' + str(i))\n",
    "    for i in range(2 * n):\n",
    "        labels.append('A' + str(i))\n",
    "    for i in range(n):\n",
    "        labels.append('M' + str(i))\n",
    "    return labels\n",
    "\n",
    "\n",
    "def _test_period_finder():\n",
    "    #3^4 mod 16 = 81 = 1\n",
    "    qc = test_pf(a=3, n=4)\n",
    "    # qc.draw(output='mpl')\n"
   ]
  },
  {
   "cell_type": "markdown",
   "metadata": {},
   "source": [
    "## Inspection"
   ]
  },
  {
   "cell_type": "code",
   "execution_count": 72,
   "metadata": {},
   "outputs": [],
   "source": [
    "# The circuit should be compiled before inspection for more accurate results\n",
    "def count(gates, qc: QuantumCircuit):\n",
    "    c = 0\n",
    "    for gate, _, _ in qc:\n",
    "        if gate.name in gates:\n",
    "            c += 1\n",
    "    return c\n",
    "\n",
    "\n",
    "def t_count(qc: QuantumCircuit):\n",
    "    gates = ['t', 'tdg']\n",
    "    return count(gates, qc)\n",
    "\n",
    "\n",
    "def u_count(qc: QuantumCircuit):\n",
    "    return count(['u'], qc)\n",
    "\n",
    "\n",
    "def qubit_count(qc: QuantumCircuit):\n",
    "    return len(qc.qubits)"
   ]
  },
  {
   "cell_type": "markdown",
   "metadata": {},
   "source": [
    "### Single-qubit Rotation Approximation"
   ]
  },
  {
   "cell_type": "code",
   "execution_count": 86,
   "metadata": {},
   "outputs": [],
   "source": [
    "import math\n",
    "\n",
    "def pure_t_count(qc: QuantumCircuit, eps: int):\n",
    "    t = t_count(qc)\n",
    "    u = u_count(qc)\n",
    "    tu = int(t_count_for_rotations(u, eps))\n",
    "    return t + tu\n",
    "\n",
    "\n",
    "def t_count_for_rotations(u: int, eps: int):\n",
    "    return 3 * math.log(10 ** eps)"
   ]
  },
  {
   "cell_type": "markdown",
   "metadata": {},
   "source": [
    "## Interface"
   ]
  },
  {
   "cell_type": "code",
   "execution_count": 105,
   "metadata": {},
   "outputs": [
    {
     "name": "stderr",
     "output_type": "stream",
     "text": [
      "/var/folders/81/cnr4jdbx62qcrhmskj4dn8y00000gn/T/ipykernel_33358/760517074.py:4: DeprecationWarning: Treating CircuitInstruction as an iterable is deprecated legacy behavior since Qiskit 1.2, and will be removed in Qiskit 2.0. Instead, use the `operation`, `qubits` and `clbits` named attributes.\n",
      "  for gate, _, _ in qc:\n"
     ]
    },
    {
     "name": "stdout",
     "output_type": "stream",
     "text": [
      "Optimization level:  0\n",
      "T gates:  5404\n",
      "Single-qubit rotations:  1488\n",
      "Total T count:  5452\n",
      "Qubits:  25\n",
      "-------------------------\n",
      "Optimization level:  1\n",
      "T gates:  4632\n",
      "Single-qubit rotations:  2098\n",
      "Total T count:  4680\n",
      "Qubits:  25\n",
      "-------------------------\n"
     ]
    },
    {
     "name": "stderr",
     "output_type": "stream",
     "text": [
      "/var/folders/81/cnr4jdbx62qcrhmskj4dn8y00000gn/T/ipykernel_33358/760517074.py:4: DeprecationWarning: Treating CircuitInstruction as an iterable is deprecated legacy behavior since Qiskit 1.2, and will be removed in Qiskit 2.0. Instead, use the `operation`, `qubits` and `clbits` named attributes.\n",
      "  for gate, _, _ in qc:\n"
     ]
    },
    {
     "data": {
      "text/plain": [
       "<qiskit.circuit.quantumcircuit.QuantumCircuit at 0x138552c60>"
      ]
     },
     "execution_count": 105,
     "metadata": {},
     "output_type": "execute_result"
    }
   ],
   "source": [
    "def statistics(a, N, eps, optimization_level):\n",
    "    n = log_2(N)\n",
    "\n",
    "    qc = _find_period(a, n, eps, decompose=True, optimization_level=optimization_level)\n",
    "\n",
    "    t = t_count(qc)\n",
    "    u = u_count(qc)\n",
    "    tt = pure_t_count(qc, eps)\n",
    "    q = qubit_count(qc)\n",
    "\n",
    "    print('Optimization level: ', optimization_level)\n",
    "\n",
    "    print('T gates: ', t)\n",
    "    print('Single-qubit rotations: ', u)\n",
    "    print('Total T count: ', tt)\n",
    "    print('Qubits: ', q)\n",
    "\n",
    "    print('-------------------------')\n",
    "\n",
    "    to_qasm(qc, file_name=name_qasm_file(n, a, eps, optimization_level))\n",
    "    # show_qasm(qc)\n",
    "\n",
    "    # qc.draw('mpl')\n",
    "    # print(qc)\n",
    "\n",
    "    return qc\n",
    "\n",
    "\n",
    "a = 3\n",
    "N = 32\n",
    "eps = 7\n",
    "\n",
    "statistics(a, N, eps, 0)\n",
    "statistics(a, N, eps, 1)"
   ]
  }
 ],
 "metadata": {
  "kernelspec": {
   "display_name": "cwq",
   "language": "python",
   "name": "python3"
  },
  "language_info": {
   "codemirror_mode": {
    "name": "ipython",
    "version": 3
   },
   "file_extension": ".py",
   "mimetype": "text/x-python",
   "name": "python",
   "nbconvert_exporter": "python",
   "pygments_lexer": "ipython3",
   "version": "3.13.2"
  }
 },
 "nbformat": 4,
 "nbformat_minor": 2
}
